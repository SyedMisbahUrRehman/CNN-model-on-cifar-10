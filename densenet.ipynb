{
  "nbformat": 4,
  "nbformat_minor": 0,
  "metadata": {
    "colab": {
      "provenance": [],
      "gpuType": "T4",
      "authorship_tag": "ABX9TyM4levqXLQmcWHKt2QN3ElE",
      "include_colab_link": true
    },
    "kernelspec": {
      "name": "python3",
      "display_name": "Python 3"
    },
    "language_info": {
      "name": "python"
    },
    "accelerator": "GPU"
  },
  "cells": [
    {
      "cell_type": "markdown",
      "metadata": {
        "id": "view-in-github",
        "colab_type": "text"
      },
      "source": [
        "<a href=\"https://colab.research.google.com/github/fabehashahzad/CNN-model-on-cifar-10/blob/main/densenet.ipynb\" target=\"_parent\"><img src=\"https://colab.research.google.com/assets/colab-badge.svg\" alt=\"Open In Colab\"/></a>"
      ]
    },
    {
      "cell_type": "code",
      "source": [
        "import torchvision\n",
        "from torch.utils.data import DataLoader, random_split\n",
        "from torchvision import transforms\n",
        "\n",
        "# Function to create a MINI CIFAR-10 dataset\n",
        "def create_mini_cifar10(root='.', train=True, transform=None):\n",
        "    cifar10_full = torchvision.datasets.CIFAR10(root=root, train=train, download=True, transform=transform)\n",
        "\n",
        "    # Select the first 150 images in each class\n",
        "    selected_indices = []\n",
        "    for class_label in range(10):\n",
        "        class_indices = [idx for idx, label in enumerate(cifar10_full.targets) if label == class_label]\n",
        "        selected_indices.extend(class_indices[:150])\n",
        "\n",
        "    mini_cifar10 = torch.utils.data.Subset(cifar10_full, selected_indices)\n",
        "\n",
        "    return mini_cifar10\n",
        "\n",
        "# Define transformations for train\n",
        "train_transform = transforms.Compose([\n",
        "    transforms.RandomHorizontalFlip(p=0.40),\n",
        "    transforms.RandomRotation(30),\n",
        "    transforms.ToTensor(),\n",
        "    transforms.Normalize([0.5, 0.5, 0.5], [0.5, 0.5, 0.5])\n",
        "])\n",
        "\n",
        "# Define transformations for test\n",
        "test_transform = transforms.Compose([\n",
        "    transforms.ToTensor(),\n",
        "    transforms.Normalize([0.5, 0.5, 0.5], [0.5, 0.5, 0.5])\n",
        "])\n",
        "\n",
        "# Usage\n",
        "transform_with_tensor = transforms.Compose([\n",
        "    # you can add other transformations in this list\n",
        "    transforms.ToTensor()\n",
        "])\n",
        "\n",
        "mini_cifar10_train = create_mini_cifar10(root='.', train=True, transform=transform_with_tensor)\n",
        "mini_cifar10_test = create_mini_cifar10(root='.', train=False, transform=transform_with_tensor)\n",
        "\n",
        "# Split the MINI CIFAR-10 dataset into train, valid, and test sets\n",
        "total_size = len(mini_cifar10_train)\n",
        "train_size = int(0.6 * total_size)\n",
        "valid_size = test_size = (total_size - train_size) // 2\n",
        "\n",
        "mini_cifar10_train, mini_cifar10_valid, _ = random_split(\n",
        "    mini_cifar10_train, [train_size, valid_size, total_size - train_size - valid_size]\n",
        ")\n",
        "\n",
        "# Usage of dataloaders\n",
        "train_loader = get_training_dataloader(mini_cifar10_train, train_transform)\n",
        "valid_loader = get_training_dataloader(mini_cifar10_valid, test_transform)\n",
        "test_loader = get_testing_dataloader(mini_cifar10_test, test_transform)\n"
      ],
      "metadata": {
        "colab": {
          "base_uri": "https://localhost:8080/"
        },
        "id": "P4joqWdLmME4",
        "outputId": "70820c31-7710-46ac-a97e-b3be1301829f"
      },
      "execution_count": 111,
      "outputs": [
        {
          "output_type": "stream",
          "name": "stdout",
          "text": [
            "Files already downloaded and verified\n",
            "Files already downloaded and verified\n"
          ]
        }
      ]
    },
    {
      "cell_type": "code",
      "source": [
        "import torch\n",
        "import torch.nn as nn\n",
        "\n",
        "\n",
        "\n",
        "#\"\"\"Bottleneck layers. Although each layer only produces k\n",
        "#output feature-maps, it typically has many more inputs. It\n",
        "#has been noted in [37, 11] that a 1×1 convolution can be in-\n",
        "#troduced as bottleneck layer before each 3×3 convolution\n",
        "#to reduce the number of input feature-maps, and thus to\n",
        "#improve computational efficiency.\"\"\"\n",
        "class Bottleneck(nn.Module):\n",
        "    def __init__(self, in_channels, growth_rate):\n",
        "        super().__init__()\n",
        "        #\"\"\"In  our experiments, we let each 1×1 convolution\n",
        "        #produce 4k feature-maps.\"\"\"\n",
        "        inner_channel = 4 * growth_rate\n",
        "\n",
        "        #\"\"\"We find this design especially effective for DenseNet and\n",
        "        #we refer to our network with such a bottleneck layer, i.e.,\n",
        "        #to the BN-ReLU-Conv(1×1)-BN-ReLU-Conv(3×3) version of H ` ,\n",
        "        #as DenseNet-B.\"\"\"\n",
        "        self.bottle_neck = nn.Sequential(\n",
        "            nn.BatchNorm2d(in_channels),\n",
        "            nn.ReLU(inplace=True),\n",
        "            nn.Conv2d(in_channels, inner_channel, kernel_size=1, bias=False),\n",
        "            nn.BatchNorm2d(inner_channel),\n",
        "            nn.ReLU(inplace=True),\n",
        "            nn.Conv2d(inner_channel, growth_rate, kernel_size=3, padding=1, bias=False)\n",
        "        )\n",
        "\n",
        "    def forward(self, x):\n",
        "        return torch.cat([x, self.bottle_neck(x)], 1)\n",
        "\n",
        "#\"\"\"We refer to layers between blocks as transition\n",
        "#layers, which do convolution and pooling.\"\"\"\n",
        "class Transition(nn.Module):\n",
        "    def __init__(self, in_channels, out_channels):\n",
        "        super().__init__()\n",
        "        #\"\"\"The transition layers used in our experiments\n",
        "        #consist of a batch normalization layer and an 1×1\n",
        "        #convolutional layer followed by a 2×2 average pooling\n",
        "        #layer\"\"\".\n",
        "        self.down_sample = nn.Sequential(\n",
        "            nn.BatchNorm2d(in_channels),\n",
        "            nn.Conv2d(in_channels, out_channels, 1, bias=False),\n",
        "            nn.AvgPool2d(2, stride=2)\n",
        "        )\n",
        "\n",
        "    def forward(self, x):\n",
        "        return self.down_sample(x)\n",
        "\n",
        "#DesneNet-BC\n",
        "#B stands for bottleneck layer(BN-RELU-CONV(1x1)-BN-RELU-CONV(3x3))\n",
        "#C stands for compression factor(0<=theta<=1)\n",
        "class DenseNet(nn.Module):\n",
        "    def __init__(self, block, nblocks, growth_rate=12, reduction=0.5, num_class=100):\n",
        "        super().__init__()\n",
        "        self.growth_rate = growth_rate\n",
        "\n",
        "        #\"\"\"Before entering the first dense block, a convolution\n",
        "        #with 16 (or twice the growth rate for DenseNet-BC)\n",
        "        #output channels is performed on the input images.\"\"\"\n",
        "        inner_channels = 2 * growth_rate\n",
        "\n",
        "        #For convolutional layers with kernel size 3×3, each\n",
        "        #side of the inputs is zero-padded by one pixel to keep\n",
        "        #the feature-map size fixed.\n",
        "        self.conv1 = nn.Conv2d(3, inner_channels, kernel_size=3, padding=1, bias=False)\n",
        "\n",
        "        self.features = nn.Sequential()\n",
        "\n",
        "        for index in range(len(nblocks) - 1):\n",
        "            self.features.add_module(\"dense_block_layer_{}\".format(index), self._make_dense_layers(block, inner_channels, nblocks[index]))\n",
        "            inner_channels += growth_rate * nblocks[index]\n",
        "\n",
        "            #\"\"\"If a dense block contains m feature-maps, we let the\n",
        "            #following transition layer generate θm output feature-\n",
        "            #maps, where 0 < θ ≤ 1 is referred to as the compression\n",
        "            #fac-tor.\n",
        "            out_channels = int(reduction * inner_channels) # int() will automatic floor the value\n",
        "            self.features.add_module(\"transition_layer_{}\".format(index), Transition(inner_channels, out_channels))\n",
        "            inner_channels = out_channels\n",
        "\n",
        "        self.features.add_module(\"dense_block{}\".format(len(nblocks) - 1), self._make_dense_layers(block, inner_channels, nblocks[len(nblocks)-1]))\n",
        "        inner_channels += growth_rate * nblocks[len(nblocks) - 1]\n",
        "        self.features.add_module('bn', nn.BatchNorm2d(inner_channels))\n",
        "        self.features.add_module('relu', nn.ReLU(inplace=True))\n",
        "\n",
        "        self.avgpool = nn.AdaptiveAvgPool2d((1, 1))\n",
        "\n",
        "        self.linear = nn.Linear(inner_channels, num_class)\n",
        "\n",
        "    def forward(self, x):\n",
        "        output = self.conv1(x)\n",
        "        output = self.features(output)\n",
        "        output = self.avgpool(output)\n",
        "        output = output.view(output.size()[0], -1)\n",
        "        output = self.linear(output)\n",
        "        return output\n",
        "\n",
        "    def _make_dense_layers(self, block, in_channels, nblocks):\n",
        "        dense_block = nn.Sequential()\n",
        "        for index in range(nblocks):\n",
        "            dense_block.add_module('bottle_neck_layer_{}'.format(index), block(in_channels, self.growth_rate))\n",
        "            in_channels += self.growth_rate\n",
        "        return dense_block\n",
        "\n",
        "def densenet121():\n",
        "    return DenseNet(Bottleneck, [6,12,24,16], growth_rate=32)\n",
        "\n",
        "def densenet169():\n",
        "    return DenseNet(Bottleneck, [6,12,32,32], growth_rate=32)\n",
        "\n",
        "def densenet201():\n",
        "    return DenseNet(Bottleneck, [6,12,48,32], growth_rate=32)\n",
        "\n",
        "def densenet161():\n",
        "    return DenseNet(Bottleneck, [6,12,36,24], growth_rate=48)"
      ],
      "metadata": {
        "id": "nEwQcIOrn5yt"
      },
      "execution_count": 112,
      "outputs": []
    },
    {
      "cell_type": "code",
      "source": [
        "import torch\n",
        "import torch.nn as nn\n",
        "from torch.optim import Adam\n",
        "from torchvision.models import densenet121\n",
        "epochs = 30\n",
        "# learning rate\n",
        "learning_rate = 0.001\n",
        "# device to use\n",
        "# don't forget to turn on GPU on kernel's settings\n",
        "device = torch.device('cuda:0' if torch.cuda.is_available() else \"cpu\")\n",
        "model = densenet121()\n",
        "criterion = nn.CrossEntropyLoss()\n",
        "\n",
        "# set optimizer, only train the classifier parameters, feature parameters are frozen\n",
        "optimizer = Adam(model.parameters(), lr=learning_rate)\n",
        "train_stats = pd.DataFrame(columns = ['Epoch', 'Time per epoch', 'Avg time per step', 'Train loss', 'Train accuracy', 'Train top-3 accuracy','Test loss', 'Test accuracy', 'Test top-3 accuracy'])\n",
        "model.to(device)\n",
        "\n",
        "steps = 0\n",
        "running_loss = 0\n",
        "for epoch in range(epochs):\n",
        "\n",
        "    since = time.time()\n",
        "\n",
        "    train_accuracy = 0\n",
        "    top3_train_accuracy = 0\n",
        "    for inputs, labels in train_loader:\n",
        "        steps += 1\n",
        "        # Move input and label tensors to the default device\n",
        "        inputs, labels = inputs.to(device), labels.to(device)\n",
        "\n",
        "        optimizer.zero_grad()\n",
        "\n",
        "        logps = model.forward(inputs)\n",
        "        loss = criterion(logps, labels)\n",
        "        loss.backward()\n",
        "        optimizer.step()\n",
        "\n",
        "        running_loss += loss.item()\n",
        "\n",
        "        # calculate train top-1 accuracy\n",
        "        ps = torch.exp(logps)\n",
        "        top_p, top_class = ps.topk(1, dim=1)\n",
        "        equals = top_class == labels.view(*top_class.shape)\n",
        "        train_accuracy += torch.mean(equals.type(torch.FloatTensor)).item()\n",
        "\n",
        "        # Calculate train top-3 accuracy\n",
        "        np_top3_class = ps.topk(3, dim=1)[1].cpu().numpy()\n",
        "        target_numpy = labels.cpu().numpy()\n",
        "        top3_train_accuracy += np.mean([1 if target_numpy[i] in np_top3_class[i] else 0 for i in range(0, len(target_numpy))])\n",
        "\n",
        "    time_elapsed = time.time() - since\n",
        "\n",
        "    valid_loss = 0\n",
        "    valid_accuracy = 0\n",
        "    top3_valid_accuracy = 0\n",
        "    test_loss = 0\n",
        "    test_accuracy = 0\n",
        "    top3_test_accuracy = 0\n",
        "    model.eval()\n",
        "    with torch.no_grad():\n",
        "        for inputs, labels in test_loader:\n",
        "            inputs, labels = inputs.to(device), labels.to(device)\n",
        "            logps = model.forward(inputs)\n",
        "            batch_loss = criterion(logps, labels)\n",
        "\n",
        "            test_loss += batch_loss.item()\n",
        "\n",
        "\n",
        "\n",
        "            # Calculate test top-1 accuracy\n",
        "            ps = torch.exp(logps)\n",
        "            top_p, top_class = ps.topk(1, dim=1)\n",
        "            equals = top_class == labels.view(*top_class.shape)\n",
        "            test_accuracy += torch.mean(equals.type(torch.FloatTensor)).item()\n",
        "\n",
        "            # Calculate test top-3 accuracy\n",
        "            np_top3_class = ps.topk(3, dim=1)[1].cpu().numpy()\n",
        "            target_numpy = labels.cpu().numpy()\n",
        "            top3_test_accuracy += np.mean([1 if target_numpy[i] in np_top3_class[i] else 0 for i in range(0, len(target_numpy))])\n",
        "        for inputs, labels in valid_loader:\n",
        "            inputs, labels = inputs.to(device), labels.to(device)\n",
        "            logps = model.forward(inputs)\n",
        "            batch_loss = criterion(logps, labels)\n",
        "\n",
        "            valid_loss += batch_loss.item()\n",
        "                        # Calculate validation top-1 accuracy\n",
        "            ps = torch.exp(logps)\n",
        "            top_p, top_class = ps.topk(1, dim=1)\n",
        "            equals = top_class == labels.view(*top_class.shape)\n",
        "            valid_accuracy += torch.mean(equals.type(torch.FloatTensor)).item()\n",
        "\n",
        "            # Calculate validation top-3 accuracy\n",
        "            np_top3_class = ps.topk(3, dim=1)[1].cpu().numpy()\n",
        "            target_numpy = labels.cpu().numpy()\n",
        "            top3_valid_accuracy += np.mean([1 if target_numpy[i] in np_top3_class[i] else 0 for i in range(0, len(target_numpy))])\n",
        "\n",
        "    print(f\"Epoch {epoch+1}/{epochs}.. \"\n",
        "          f\"Time per epoch: {time_elapsed:.4f}.. \"\n",
        "          f\"Average time per step: {time_elapsed/len(train_loader):.4f}.. \"\n",
        "          f\"Train loss: {running_loss/len(train_loader):.4f}.. \"\n",
        "          f\"Train accuracy: {train_accuracy/len(train_loader):.4f}.. \"\n",
        "          f\"Top-3 train accuracy: {top3_train_accuracy/len(train_loader):.4f}.. \"\n",
        "          f\"Valid loss: {valid_loss/len(valid_loader):.4f}.. \"\n",
        "          f\"Valid accuracy: {valid_accuracy/len(valid_loader):.4f}.. \"\n",
        "          f\"Top-3 valid accuracy: {top3_valid_accuracy/len(valid_loader):.4f}\")\n",
        "\n",
        "    train_stats = train_stats.append({\n",
        "    'Epoch': epoch,\n",
        "    'Time per epoch': time_elapsed,\n",
        "    'Avg time per step': time_elapsed/len(train_loader),\n",
        "    'Train loss': running_loss/len(train_loader),\n",
        "    'Train accuracy': train_accuracy/len(train_loader),\n",
        "    'Train top-3 accuracy': top3_train_accuracy/len(train_loader),\n",
        "    'Test loss': test_loss/len(test_loader),\n",
        "    'Test accuracy': test_accuracy/len(test_loader),\n",
        "    'Test top-3 accuracy': top3_test_accuracy/len(test_loader),\n",
        "    'Valid loss': valid_loss/len(valid_loader),  # Add validation loss\n",
        "    'Valid accuracy': valid_accuracy/len(valid_loader),  # Add validation accuracy\n",
        "    'Valid top-3 accuracy': top3_valid_accuracy/len(valid_loader)  # Add validation top-3 accuracy\n",
        "}, ignore_index=True)\n",
        "\n",
        "    running_loss = 0\n",
        "    model.train()"
      ],
      "metadata": {
        "colab": {
          "base_uri": "https://localhost:8080/"
        },
        "id": "Sncoy8d_ncJz",
        "outputId": "e650186e-8e30-42e2-9d2f-f861c500ae7e"
      },
      "execution_count": 128,
      "outputs": [
        {
          "output_type": "stream",
          "name": "stdout",
          "text": [
            "Epoch 1/30.. Time per epoch: 0.8178.. Average time per step: 0.1022.. Train loss: 4.2939.. Train accuracy: 0.1875.. Top-3 train accuracy: 0.4775.. Valid loss: 5.1289.. Valid accuracy: 0.1170.. Top-3 valid accuracy: 0.4034\n"
          ]
        },
        {
          "output_type": "stream",
          "name": "stderr",
          "text": [
            "<ipython-input-128-9cea78d7fd4c>:108: FutureWarning: The frame.append method is deprecated and will be removed from pandas in a future version. Use pandas.concat instead.\n",
            "  train_stats = train_stats.append({\n"
          ]
        },
        {
          "output_type": "stream",
          "name": "stdout",
          "text": [
            "Epoch 2/30.. Time per epoch: 0.8178.. Average time per step: 0.1022.. Train loss: 1.8100.. Train accuracy: 0.3945.. Top-3 train accuracy: 0.7090.. Valid loss: 2.6518.. Valid accuracy: 0.1619.. Top-3 valid accuracy: 0.4455\n"
          ]
        },
        {
          "output_type": "stream",
          "name": "stderr",
          "text": [
            "<ipython-input-128-9cea78d7fd4c>:108: FutureWarning: The frame.append method is deprecated and will be removed from pandas in a future version. Use pandas.concat instead.\n",
            "  train_stats = train_stats.append({\n"
          ]
        },
        {
          "output_type": "stream",
          "name": "stdout",
          "text": [
            "Epoch 3/30.. Time per epoch: 1.0326.. Average time per step: 0.1291.. Train loss: 1.6858.. Train accuracy: 0.3701.. Top-3 train accuracy: 0.7168.. Valid loss: 2.2643.. Valid accuracy: 0.1830.. Top-3 valid accuracy: 0.4820\n"
          ]
        },
        {
          "output_type": "stream",
          "name": "stderr",
          "text": [
            "<ipython-input-128-9cea78d7fd4c>:108: FutureWarning: The frame.append method is deprecated and will be removed from pandas in a future version. Use pandas.concat instead.\n",
            "  train_stats = train_stats.append({\n"
          ]
        },
        {
          "output_type": "stream",
          "name": "stdout",
          "text": [
            "Epoch 4/30.. Time per epoch: 0.7816.. Average time per step: 0.0977.. Train loss: 1.7897.. Train accuracy: 0.3574.. Top-3 train accuracy: 0.6729.. Valid loss: 2.1601.. Valid accuracy: 0.2164.. Top-3 valid accuracy: 0.5211\n"
          ]
        },
        {
          "output_type": "stream",
          "name": "stderr",
          "text": [
            "<ipython-input-128-9cea78d7fd4c>:108: FutureWarning: The frame.append method is deprecated and will be removed from pandas in a future version. Use pandas.concat instead.\n",
            "  train_stats = train_stats.append({\n"
          ]
        },
        {
          "output_type": "stream",
          "name": "stdout",
          "text": [
            "Epoch 5/30.. Time per epoch: 0.8213.. Average time per step: 0.1027.. Train loss: 1.6377.. Train accuracy: 0.4355.. Top-3 train accuracy: 0.7324.. Valid loss: 2.1799.. Valid accuracy: 0.2495.. Top-3 valid accuracy: 0.5265\n"
          ]
        },
        {
          "output_type": "stream",
          "name": "stderr",
          "text": [
            "<ipython-input-128-9cea78d7fd4c>:108: FutureWarning: The frame.append method is deprecated and will be removed from pandas in a future version. Use pandas.concat instead.\n",
            "  train_stats = train_stats.append({\n"
          ]
        },
        {
          "output_type": "stream",
          "name": "stdout",
          "text": [
            "Epoch 6/30.. Time per epoch: 0.7860.. Average time per step: 0.0983.. Train loss: 1.5478.. Train accuracy: 0.4385.. Top-3 train accuracy: 0.7861.. Valid loss: 2.0382.. Valid accuracy: 0.2320.. Top-3 valid accuracy: 0.6030\n"
          ]
        },
        {
          "output_type": "stream",
          "name": "stderr",
          "text": [
            "<ipython-input-128-9cea78d7fd4c>:108: FutureWarning: The frame.append method is deprecated and will be removed from pandas in a future version. Use pandas.concat instead.\n",
            "  train_stats = train_stats.append({\n"
          ]
        },
        {
          "output_type": "stream",
          "name": "stdout",
          "text": [
            "Epoch 7/30.. Time per epoch: 1.0410.. Average time per step: 0.1301.. Train loss: 1.4146.. Train accuracy: 0.4805.. Top-3 train accuracy: 0.8428.. Valid loss: 1.9055.. Valid accuracy: 0.3061.. Top-3 valid accuracy: 0.6572\n"
          ]
        },
        {
          "output_type": "stream",
          "name": "stderr",
          "text": [
            "<ipython-input-128-9cea78d7fd4c>:108: FutureWarning: The frame.append method is deprecated and will be removed from pandas in a future version. Use pandas.concat instead.\n",
            "  train_stats = train_stats.append({\n"
          ]
        },
        {
          "output_type": "stream",
          "name": "stdout",
          "text": [
            "Epoch 8/30.. Time per epoch: 0.8014.. Average time per step: 0.1002.. Train loss: 1.4039.. Train accuracy: 0.5098.. Top-3 train accuracy: 0.8281.. Valid loss: 1.9332.. Valid accuracy: 0.3494.. Top-3 valid accuracy: 0.6084\n"
          ]
        },
        {
          "output_type": "stream",
          "name": "stderr",
          "text": [
            "<ipython-input-128-9cea78d7fd4c>:108: FutureWarning: The frame.append method is deprecated and will be removed from pandas in a future version. Use pandas.concat instead.\n",
            "  train_stats = train_stats.append({\n"
          ]
        },
        {
          "output_type": "stream",
          "name": "stdout",
          "text": [
            "Epoch 9/30.. Time per epoch: 0.8005.. Average time per step: 0.1001.. Train loss: 1.1751.. Train accuracy: 0.6035.. Top-3 train accuracy: 0.9111.. Valid loss: 1.9048.. Valid accuracy: 0.2898.. Top-3 valid accuracy: 0.6529\n"
          ]
        },
        {
          "output_type": "stream",
          "name": "stderr",
          "text": [
            "<ipython-input-128-9cea78d7fd4c>:108: FutureWarning: The frame.append method is deprecated and will be removed from pandas in a future version. Use pandas.concat instead.\n",
            "  train_stats = train_stats.append({\n"
          ]
        },
        {
          "output_type": "stream",
          "name": "stdout",
          "text": [
            "Epoch 10/30.. Time per epoch: 0.9548.. Average time per step: 0.1194.. Train loss: 1.1092.. Train accuracy: 0.5732.. Top-3 train accuracy: 0.9092.. Valid loss: 2.0433.. Valid accuracy: 0.3191.. Top-3 valid accuracy: 0.6139\n"
          ]
        },
        {
          "output_type": "stream",
          "name": "stderr",
          "text": [
            "<ipython-input-128-9cea78d7fd4c>:108: FutureWarning: The frame.append method is deprecated and will be removed from pandas in a future version. Use pandas.concat instead.\n",
            "  train_stats = train_stats.append({\n"
          ]
        },
        {
          "output_type": "stream",
          "name": "stdout",
          "text": [
            "Epoch 11/30.. Time per epoch: 0.9899.. Average time per step: 0.1237.. Train loss: 0.9874.. Train accuracy: 0.6641.. Top-3 train accuracy: 0.9277.. Valid loss: 1.9849.. Valid accuracy: 0.3402.. Top-3 valid accuracy: 0.6475\n"
          ]
        },
        {
          "output_type": "stream",
          "name": "stderr",
          "text": [
            "<ipython-input-128-9cea78d7fd4c>:108: FutureWarning: The frame.append method is deprecated and will be removed from pandas in a future version. Use pandas.concat instead.\n",
            "  train_stats = train_stats.append({\n"
          ]
        },
        {
          "output_type": "stream",
          "name": "stdout",
          "text": [
            "Epoch 12/30.. Time per epoch: 0.8567.. Average time per step: 0.1071.. Train loss: 1.2238.. Train accuracy: 0.6074.. Top-3 train accuracy: 0.8457.. Valid loss: 2.0706.. Valid accuracy: 0.3265.. Top-3 valid accuracy: 0.6413\n"
          ]
        },
        {
          "output_type": "stream",
          "name": "stderr",
          "text": [
            "<ipython-input-128-9cea78d7fd4c>:108: FutureWarning: The frame.append method is deprecated and will be removed from pandas in a future version. Use pandas.concat instead.\n",
            "  train_stats = train_stats.append({\n"
          ]
        },
        {
          "output_type": "stream",
          "name": "stdout",
          "text": [
            "Epoch 13/30.. Time per epoch: 0.7885.. Average time per step: 0.0986.. Train loss: 1.0491.. Train accuracy: 0.6162.. Top-3 train accuracy: 0.9229.. Valid loss: 2.0386.. Valid accuracy: 0.3035.. Top-3 valid accuracy: 0.6158\n"
          ]
        },
        {
          "output_type": "stream",
          "name": "stderr",
          "text": [
            "<ipython-input-128-9cea78d7fd4c>:108: FutureWarning: The frame.append method is deprecated and will be removed from pandas in a future version. Use pandas.concat instead.\n",
            "  train_stats = train_stats.append({\n"
          ]
        },
        {
          "output_type": "stream",
          "name": "stdout",
          "text": [
            "Epoch 14/30.. Time per epoch: 0.8019.. Average time per step: 0.1002.. Train loss: 1.1484.. Train accuracy: 0.5869.. Top-3 train accuracy: 0.8701.. Valid loss: 2.0067.. Valid accuracy: 0.3035.. Top-3 valid accuracy: 0.6342\n"
          ]
        },
        {
          "output_type": "stream",
          "name": "stderr",
          "text": [
            "<ipython-input-128-9cea78d7fd4c>:108: FutureWarning: The frame.append method is deprecated and will be removed from pandas in a future version. Use pandas.concat instead.\n",
            "  train_stats = train_stats.append({\n"
          ]
        },
        {
          "output_type": "stream",
          "name": "stdout",
          "text": [
            "Epoch 15/30.. Time per epoch: 0.8025.. Average time per step: 0.1003.. Train loss: 1.3099.. Train accuracy: 0.5283.. Top-3 train accuracy: 0.8125.. Valid loss: 2.1588.. Valid accuracy: 0.2505.. Top-3 valid accuracy: 0.6006\n"
          ]
        },
        {
          "output_type": "stream",
          "name": "stderr",
          "text": [
            "<ipython-input-128-9cea78d7fd4c>:108: FutureWarning: The frame.append method is deprecated and will be removed from pandas in a future version. Use pandas.concat instead.\n",
            "  train_stats = train_stats.append({\n"
          ]
        },
        {
          "output_type": "stream",
          "name": "stdout",
          "text": [
            "Epoch 16/30.. Time per epoch: 0.7836.. Average time per step: 0.0979.. Train loss: 1.3093.. Train accuracy: 0.5566.. Top-3 train accuracy: 0.8564.. Valid loss: 2.0896.. Valid accuracy: 0.3253.. Top-3 valid accuracy: 0.6416\n"
          ]
        },
        {
          "output_type": "stream",
          "name": "stderr",
          "text": [
            "<ipython-input-128-9cea78d7fd4c>:108: FutureWarning: The frame.append method is deprecated and will be removed from pandas in a future version. Use pandas.concat instead.\n",
            "  train_stats = train_stats.append({\n"
          ]
        },
        {
          "output_type": "stream",
          "name": "stdout",
          "text": [
            "Epoch 17/30.. Time per epoch: 0.7835.. Average time per step: 0.0979.. Train loss: 1.0845.. Train accuracy: 0.5820.. Top-3 train accuracy: 0.8760.. Valid loss: 2.3907.. Valid accuracy: 0.2505.. Top-3 valid accuracy: 0.5779\n"
          ]
        },
        {
          "output_type": "stream",
          "name": "stderr",
          "text": [
            "<ipython-input-128-9cea78d7fd4c>:108: FutureWarning: The frame.append method is deprecated and will be removed from pandas in a future version. Use pandas.concat instead.\n",
            "  train_stats = train_stats.append({\n"
          ]
        },
        {
          "output_type": "stream",
          "name": "stdout",
          "text": [
            "Epoch 18/30.. Time per epoch: 1.0742.. Average time per step: 0.1343.. Train loss: 1.2262.. Train accuracy: 0.5273.. Top-3 train accuracy: 0.8418.. Valid loss: 2.2337.. Valid accuracy: 0.3021.. Top-3 valid accuracy: 0.6491\n"
          ]
        },
        {
          "output_type": "stream",
          "name": "stderr",
          "text": [
            "<ipython-input-128-9cea78d7fd4c>:108: FutureWarning: The frame.append method is deprecated and will be removed from pandas in a future version. Use pandas.concat instead.\n",
            "  train_stats = train_stats.append({\n"
          ]
        },
        {
          "output_type": "stream",
          "name": "stdout",
          "text": [
            "Epoch 19/30.. Time per epoch: 0.7834.. Average time per step: 0.0979.. Train loss: 1.2199.. Train accuracy: 0.5781.. Top-3 train accuracy: 0.8604.. Valid loss: 2.3894.. Valid accuracy: 0.2834.. Top-3 valid accuracy: 0.5928\n"
          ]
        },
        {
          "output_type": "stream",
          "name": "stderr",
          "text": [
            "<ipython-input-128-9cea78d7fd4c>:108: FutureWarning: The frame.append method is deprecated and will be removed from pandas in a future version. Use pandas.concat instead.\n",
            "  train_stats = train_stats.append({\n"
          ]
        },
        {
          "output_type": "stream",
          "name": "stdout",
          "text": [
            "Epoch 20/30.. Time per epoch: 1.0801.. Average time per step: 0.1350.. Train loss: 1.0185.. Train accuracy: 0.6602.. Top-3 train accuracy: 0.9053.. Valid loss: 2.3098.. Valid accuracy: 0.3108.. Top-3 valid accuracy: 0.6304\n"
          ]
        },
        {
          "output_type": "stream",
          "name": "stderr",
          "text": [
            "<ipython-input-128-9cea78d7fd4c>:108: FutureWarning: The frame.append method is deprecated and will be removed from pandas in a future version. Use pandas.concat instead.\n",
            "  train_stats = train_stats.append({\n"
          ]
        },
        {
          "output_type": "stream",
          "name": "stdout",
          "text": [
            "Epoch 21/30.. Time per epoch: 0.7782.. Average time per step: 0.0973.. Train loss: 0.9947.. Train accuracy: 0.6641.. Top-3 train accuracy: 0.9102.. Valid loss: 2.3997.. Valid accuracy: 0.2872.. Top-3 valid accuracy: 0.6269\n"
          ]
        },
        {
          "output_type": "stream",
          "name": "stderr",
          "text": [
            "<ipython-input-128-9cea78d7fd4c>:108: FutureWarning: The frame.append method is deprecated and will be removed from pandas in a future version. Use pandas.concat instead.\n",
            "  train_stats = train_stats.append({\n"
          ]
        },
        {
          "output_type": "stream",
          "name": "stdout",
          "text": [
            "Epoch 22/30.. Time per epoch: 0.7928.. Average time per step: 0.0991.. Train loss: 0.8228.. Train accuracy: 0.7070.. Top-3 train accuracy: 0.9502.. Valid loss: 2.3020.. Valid accuracy: 0.2940.. Top-3 valid accuracy: 0.6117\n"
          ]
        },
        {
          "output_type": "stream",
          "name": "stderr",
          "text": [
            "<ipython-input-128-9cea78d7fd4c>:108: FutureWarning: The frame.append method is deprecated and will be removed from pandas in a future version. Use pandas.concat instead.\n",
            "  train_stats = train_stats.append({\n"
          ]
        },
        {
          "output_type": "stream",
          "name": "stdout",
          "text": [
            "Epoch 23/30.. Time per epoch: 0.7880.. Average time per step: 0.0985.. Train loss: 0.8565.. Train accuracy: 0.7070.. Top-3 train accuracy: 0.8975.. Valid loss: 2.1175.. Valid accuracy: 0.3736.. Top-3 valid accuracy: 0.7086\n"
          ]
        },
        {
          "output_type": "stream",
          "name": "stderr",
          "text": [
            "<ipython-input-128-9cea78d7fd4c>:108: FutureWarning: The frame.append method is deprecated and will be removed from pandas in a future version. Use pandas.concat instead.\n",
            "  train_stats = train_stats.append({\n"
          ]
        },
        {
          "output_type": "stream",
          "name": "stdout",
          "text": [
            "Epoch 24/30.. Time per epoch: 0.8084.. Average time per step: 0.1011.. Train loss: 0.8763.. Train accuracy: 0.7295.. Top-3 train accuracy: 0.9092.. Valid loss: 2.1474.. Valid accuracy: 0.3987.. Top-3 valid accuracy: 0.7211\n"
          ]
        },
        {
          "output_type": "stream",
          "name": "stderr",
          "text": [
            "<ipython-input-128-9cea78d7fd4c>:108: FutureWarning: The frame.append method is deprecated and will be removed from pandas in a future version. Use pandas.concat instead.\n",
            "  train_stats = train_stats.append({\n"
          ]
        },
        {
          "output_type": "stream",
          "name": "stdout",
          "text": [
            "Epoch 25/30.. Time per epoch: 0.9192.. Average time per step: 0.1149.. Train loss: 0.9646.. Train accuracy: 0.6875.. Top-3 train accuracy: 0.8994.. Valid loss: 2.4974.. Valid accuracy: 0.2867.. Top-3 valid accuracy: 0.6473\n"
          ]
        },
        {
          "output_type": "stream",
          "name": "stderr",
          "text": [
            "<ipython-input-128-9cea78d7fd4c>:108: FutureWarning: The frame.append method is deprecated and will be removed from pandas in a future version. Use pandas.concat instead.\n",
            "  train_stats = train_stats.append({\n"
          ]
        },
        {
          "output_type": "stream",
          "name": "stdout",
          "text": [
            "Epoch 26/30.. Time per epoch: 0.9965.. Average time per step: 0.1246.. Train loss: 1.0828.. Train accuracy: 0.7002.. Top-3 train accuracy: 0.8721.. Valid loss: 2.5469.. Valid accuracy: 0.2891.. Top-3 valid accuracy: 0.5753\n"
          ]
        },
        {
          "output_type": "stream",
          "name": "stderr",
          "text": [
            "<ipython-input-128-9cea78d7fd4c>:108: FutureWarning: The frame.append method is deprecated and will be removed from pandas in a future version. Use pandas.concat instead.\n",
            "  train_stats = train_stats.append({\n"
          ]
        },
        {
          "output_type": "stream",
          "name": "stdout",
          "text": [
            "Epoch 27/30.. Time per epoch: 0.7919.. Average time per step: 0.0990.. Train loss: 1.1109.. Train accuracy: 0.6445.. Top-3 train accuracy: 0.8721.. Valid loss: 2.5682.. Valid accuracy: 0.3224.. Top-3 valid accuracy: 0.6110\n"
          ]
        },
        {
          "output_type": "stream",
          "name": "stderr",
          "text": [
            "<ipython-input-128-9cea78d7fd4c>:108: FutureWarning: The frame.append method is deprecated and will be removed from pandas in a future version. Use pandas.concat instead.\n",
            "  train_stats = train_stats.append({\n"
          ]
        },
        {
          "output_type": "stream",
          "name": "stdout",
          "text": [
            "Epoch 28/30.. Time per epoch: 0.7881.. Average time per step: 0.0985.. Train loss: 0.9083.. Train accuracy: 0.6963.. Top-3 train accuracy: 0.9053.. Valid loss: 2.2170.. Valid accuracy: 0.3250.. Top-3 valid accuracy: 0.6598\n"
          ]
        },
        {
          "output_type": "stream",
          "name": "stderr",
          "text": [
            "<ipython-input-128-9cea78d7fd4c>:108: FutureWarning: The frame.append method is deprecated and will be removed from pandas in a future version. Use pandas.concat instead.\n",
            "  train_stats = train_stats.append({\n"
          ]
        },
        {
          "output_type": "stream",
          "name": "stdout",
          "text": [
            "Epoch 29/30.. Time per epoch: 0.7916.. Average time per step: 0.0990.. Train loss: 0.9935.. Train accuracy: 0.6826.. Top-3 train accuracy: 0.8965.. Valid loss: 3.1085.. Valid accuracy: 0.2753.. Top-3 valid accuracy: 0.5566\n"
          ]
        },
        {
          "output_type": "stream",
          "name": "stderr",
          "text": [
            "<ipython-input-128-9cea78d7fd4c>:108: FutureWarning: The frame.append method is deprecated and will be removed from pandas in a future version. Use pandas.concat instead.\n",
            "  train_stats = train_stats.append({\n"
          ]
        },
        {
          "output_type": "stream",
          "name": "stdout",
          "text": [
            "Epoch 30/30.. Time per epoch: 0.7871.. Average time per step: 0.0984.. Train loss: 0.9715.. Train accuracy: 0.6670.. Top-3 train accuracy: 0.9141.. Valid loss: 2.4929.. Valid accuracy: 0.2969.. Top-3 valid accuracy: 0.6373\n"
          ]
        },
        {
          "output_type": "stream",
          "name": "stderr",
          "text": [
            "<ipython-input-128-9cea78d7fd4c>:108: FutureWarning: The frame.append method is deprecated and will be removed from pandas in a future version. Use pandas.concat instead.\n",
            "  train_stats = train_stats.append({\n"
          ]
        }
      ]
    },
    {
      "cell_type": "code",
      "source": [
        "import matplotlib.pyplot as plt\n",
        "\n",
        "# Assuming `train_stats` is the DataFrame containing your training statistics\n",
        "fig, ax = plt.subplots(figsize=(10, 7))\n",
        "\n",
        "ax.plot(train_stats['Epoch'], train_stats['Train loss'], '-g', label='Train loss')\n",
        "ax.plot(train_stats['Epoch'], train_stats['Test loss'], '-b', label='Test loss')\n",
        "ax.plot(train_stats['Epoch'], train_stats['Valid loss'], '-r', label='Valid loss')\n",
        "\n",
        "plt.title(\"Training, Testing, and Validation Loss\")\n",
        "plt.xlabel(\"Epochs\")\n",
        "plt.ylabel(\"Loss\")\n",
        "plt.legend()\n",
        "plt.show()\n"
      ],
      "metadata": {
        "colab": {
          "base_uri": "https://localhost:8080/",
          "height": 641
        },
        "id": "jOglau7Tnp2N",
        "outputId": "ddf4bab4-80e6-42b0-a286-e20cf38fc7bd"
      },
      "execution_count": 129,
      "outputs": [
        {
          "output_type": "display_data",
          "data": {
            "text/plain": [
              "<Figure size 1000x700 with 1 Axes>"
            ],
            "image/png": "[encoded data removed]"
          },
          "metadata": {}
        }
      ]
    },
    {
      "cell_type": "code",
      "source": [],
      "metadata": {
        "id": "WYHHTsjwqY-P"
      },
      "execution_count": null,
      "outputs": []
    }
  ]
}